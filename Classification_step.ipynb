{
  "nbformat": 4,
  "nbformat_minor": 0,
  "metadata": {
    "colab": {
      "name": "Classification step.ipynb",
      "provenance": [],
      "collapsed_sections": [],
      "mount_file_id": "1dhm9_-gBkGm8o4uzhGrXuuNxBm72QqRn",
      "authorship_tag": "ABX9TyPmpKFiciTVq3kgLj/WWNk8",
      "include_colab_link": true
    },
    "kernelspec": {
      "name": "python3",
      "display_name": "Python 3"
    },
    "language_info": {
      "name": "python"
    },
    "accelerator": "GPU"
  },
  "cells": [
    {
      "cell_type": "markdown",
      "metadata": {
        "id": "view-in-github",
        "colab_type": "text"
      },
      "source": [
        "<a href=\"https://colab.research.google.com/github/rllima/IF704/blob/main/Classification_step.ipynb\" target=\"_parent\"><img src=\"https://colab.research.google.com/assets/colab-badge.svg\" alt=\"Open In Colab\"/></a>"
      ]
    },
    {
      "cell_type": "code",
      "metadata": {
        "id": "jLoWQFrQ6hjS"
      },
      "source": [
        "import pandas as pd\n",
        "import numpy as np"
      ],
      "execution_count": 1,
      "outputs": []
    },
    {
      "cell_type": "code",
      "metadata": {
        "id": "jispjA-F63UO",
        "colab": {
          "base_uri": "https://localhost:8080/"
        },
        "outputId": "d7b6cf29-4a47-4453-d271-0cc011c90b68"
      },
      "source": [
        "from __future__ import absolute_import, division, print_function, unicode_literals\n",
        "\n",
        "try:\n",
        "  # %tensorflow_version only exists in Colab.\n",
        "  %tensorflow_version 2.x\n",
        "except Exception:\n",
        "  pass\n",
        "import tensorflow as tf\n",
        "from google.colab import drive\n",
        "from matplotlib import pyplot as plt\n",
        "\n",
        "import nltk\n",
        "from nltk.corpus import stopwords\n",
        "from nltk.stem import WordNetLemmatizer\n",
        "\n",
        "import sklearn\n",
        "\n",
        "import codecs\n",
        "from tqdm import tqdm\n",
        "import nltk\n",
        "nltk.download('stopwords')"
      ],
      "execution_count": 2,
      "outputs": [
        {
          "output_type": "stream",
          "text": [
            "[nltk_data] Downloading package stopwords to /root/nltk_data...\n",
            "[nltk_data]   Package stopwords is already up-to-date!\n"
          ],
          "name": "stdout"
        },
        {
          "output_type": "execute_result",
          "data": {
            "text/plain": [
              "True"
            ]
          },
          "metadata": {
            "tags": []
          },
          "execution_count": 2
        }
      ]
    },
    {
      "cell_type": "code",
      "metadata": {
        "id": "gsZ5YUmDtFxh"
      },
      "source": [
        "##Metrics functions\n",
        "#Metrics have been removed from Keras core. You need to calculate them manually. \n",
        "#They removed them on 2.0 version. Those metrics are all global metrics, but Keras works in batches. As a result, it might be more misleading than helpful.\n",
        "\n",
        "from keras import backend as K\n",
        "\n",
        "def recall_m(y_true, y_pred):\n",
        "    true_positives = K.sum(K.round(K.clip(y_true * y_pred, 0, 1)))\n",
        "    possible_positives = K.sum(K.round(K.clip(y_true, 0, 1)))\n",
        "    recall = true_positives / (possible_positives + K.epsilon())\n",
        "    return recall\n",
        "\n",
        "def precision_m(y_true, y_pred):\n",
        "    true_positives = K.sum(K.round(K.clip(y_true * y_pred, 0, 1)))\n",
        "    predicted_positives = K.sum(K.round(K.clip(y_pred, 0, 1)))\n",
        "    precision = true_positives / (predicted_positives + K.epsilon())\n",
        "    return precision\n",
        "\n",
        "def f1_m(y_true, y_pred):\n",
        "    precision = precision_m(y_true, y_pred)\n",
        "    recall = recall_m(y_true, y_pred)\n",
        "    return 2*((precision*recall)/(precision+recall+K.epsilon()))"
      ],
      "execution_count": 3,
      "outputs": []
    },
    {
      "cell_type": "code",
      "metadata": {
        "colab": {
          "base_uri": "https://localhost:8080/"
        },
        "id": "OJZgvCnV9_N2",
        "outputId": "286b091c-b2bf-4509-aa89-92fc991f86ee"
      },
      "source": [
        "!apt install unzip"
      ],
      "execution_count": 4,
      "outputs": [
        {
          "output_type": "stream",
          "text": [
            "Reading package lists... Done\n",
            "Building dependency tree       \n",
            "Reading state information... Done\n",
            "unzip is already the newest version (6.0-21ubuntu1.1).\n",
            "0 upgraded, 0 newly installed, 0 to remove and 39 not upgraded.\n"
          ],
          "name": "stdout"
        }
      ]
    },
    {
      "cell_type": "code",
      "metadata": {
        "colab": {
          "base_uri": "https://localhost:8080/"
        },
        "id": "rvMcOPVgAPhS",
        "outputId": "9bd7e780-2ffe-4a47-bb2e-821330351cd4"
      },
      "source": [
        "drive.mount('/content/drive/',force_remount=True)"
      ],
      "execution_count": 4,
      "outputs": [
        {
          "output_type": "stream",
          "text": [
            "Mounted at /content/drive/\n"
          ],
          "name": "stdout"
        }
      ]
    },
    {
      "cell_type": "code",
      "metadata": {
        "id": "N9a76Sqs7w0o"
      },
      "source": [
        "#Download do dataset\n",
        "import requests, zipfile, io\n",
        "r = requests.get(\"http://cs.stanford.edu/people/alecmgo/trainingandtestdata.zip\")\n",
        "z = zipfile.ZipFile(io.BytesIO(r.content))\n",
        "z.extractall(\"/content/drive/My Drive/IF704\")\n",
        "z.close()"
      ],
      "execution_count": 5,
      "outputs": []
    },
    {
      "cell_type": "code",
      "metadata": {
        "colab": {
          "base_uri": "https://localhost:8080/"
        },
        "id": "64NUK0IM_Czm",
        "outputId": "3b9d93d6-388c-476b-9b83-886afd301038"
      },
      "source": [
        "!ls \"/content/drive/My Drive/IF704/\""
      ],
      "execution_count": 7,
      "outputs": [
        {
          "output_type": "stream",
          "text": [
            "testdata.manual.2009.06.14.csv\ttraining.1600000.processed.noemoticon.csv\n"
          ],
          "name": "stdout"
        }
      ]
    },
    {
      "cell_type": "code",
      "metadata": {
        "id": "DOpmzq4D_L8P"
      },
      "source": [
        "df = pd.read_csv(\"/content/drive/My Drive/IF704/training.1600000.processed.noemoticon.csv\",\n",
        "                 names = [\"target\",\"id\",\"date\",\"query\",\"user\",\"text\"], header=None, encoding='latin-1')"
      ],
      "execution_count": 6,
      "outputs": []
    },
    {
      "cell_type": "code",
      "metadata": {
        "colab": {
          "base_uri": "https://localhost:8080/",
          "height": 204
        },
        "id": "mhHcX5QvCeif",
        "outputId": "655dd389-fa3f-4b6d-b1b0-758b28c33b09"
      },
      "source": [
        "df.head()"
      ],
      "execution_count": 7,
      "outputs": [
        {
          "output_type": "execute_result",
          "data": {
            "text/html": [
              "<div>\n",
              "<style scoped>\n",
              "    .dataframe tbody tr th:only-of-type {\n",
              "        vertical-align: middle;\n",
              "    }\n",
              "\n",
              "    .dataframe tbody tr th {\n",
              "        vertical-align: top;\n",
              "    }\n",
              "\n",
              "    .dataframe thead th {\n",
              "        text-align: right;\n",
              "    }\n",
              "</style>\n",
              "<table border=\"1\" class=\"dataframe\">\n",
              "  <thead>\n",
              "    <tr style=\"text-align: right;\">\n",
              "      <th></th>\n",
              "      <th>target</th>\n",
              "      <th>id</th>\n",
              "      <th>date</th>\n",
              "      <th>query</th>\n",
              "      <th>user</th>\n",
              "      <th>text</th>\n",
              "    </tr>\n",
              "  </thead>\n",
              "  <tbody>\n",
              "    <tr>\n",
              "      <th>0</th>\n",
              "      <td>0</td>\n",
              "      <td>1467810369</td>\n",
              "      <td>Mon Apr 06 22:19:45 PDT 2009</td>\n",
              "      <td>NO_QUERY</td>\n",
              "      <td>_TheSpecialOne_</td>\n",
              "      <td>@switchfoot http://twitpic.com/2y1zl - Awww, t...</td>\n",
              "    </tr>\n",
              "    <tr>\n",
              "      <th>1</th>\n",
              "      <td>0</td>\n",
              "      <td>1467810672</td>\n",
              "      <td>Mon Apr 06 22:19:49 PDT 2009</td>\n",
              "      <td>NO_QUERY</td>\n",
              "      <td>scotthamilton</td>\n",
              "      <td>is upset that he can't update his Facebook by ...</td>\n",
              "    </tr>\n",
              "    <tr>\n",
              "      <th>2</th>\n",
              "      <td>0</td>\n",
              "      <td>1467810917</td>\n",
              "      <td>Mon Apr 06 22:19:53 PDT 2009</td>\n",
              "      <td>NO_QUERY</td>\n",
              "      <td>mattycus</td>\n",
              "      <td>@Kenichan I dived many times for the ball. Man...</td>\n",
              "    </tr>\n",
              "    <tr>\n",
              "      <th>3</th>\n",
              "      <td>0</td>\n",
              "      <td>1467811184</td>\n",
              "      <td>Mon Apr 06 22:19:57 PDT 2009</td>\n",
              "      <td>NO_QUERY</td>\n",
              "      <td>ElleCTF</td>\n",
              "      <td>my whole body feels itchy and like its on fire</td>\n",
              "    </tr>\n",
              "    <tr>\n",
              "      <th>4</th>\n",
              "      <td>0</td>\n",
              "      <td>1467811193</td>\n",
              "      <td>Mon Apr 06 22:19:57 PDT 2009</td>\n",
              "      <td>NO_QUERY</td>\n",
              "      <td>Karoli</td>\n",
              "      <td>@nationwideclass no, it's not behaving at all....</td>\n",
              "    </tr>\n",
              "  </tbody>\n",
              "</table>\n",
              "</div>"
            ],
            "text/plain": [
              "   target  ...                                               text\n",
              "0       0  ...  @switchfoot http://twitpic.com/2y1zl - Awww, t...\n",
              "1       0  ...  is upset that he can't update his Facebook by ...\n",
              "2       0  ...  @Kenichan I dived many times for the ball. Man...\n",
              "3       0  ...    my whole body feels itchy and like its on fire \n",
              "4       0  ...  @nationwideclass no, it's not behaving at all....\n",
              "\n",
              "[5 rows x 6 columns]"
            ]
          },
          "metadata": {
            "tags": []
          },
          "execution_count": 7
        }
      ]
    },
    {
      "cell_type": "code",
      "metadata": {
        "colab": {
          "base_uri": "https://localhost:8080/"
        },
        "id": "dG-ywwlmHSk_",
        "outputId": "add042f7-2234-4848-bbeb-b74cb8d13e1d"
      },
      "source": [
        "df.dtypes"
      ],
      "execution_count": 8,
      "outputs": [
        {
          "output_type": "execute_result",
          "data": {
            "text/plain": [
              "target     int64\n",
              "id         int64\n",
              "date      object\n",
              "query     object\n",
              "user      object\n",
              "text      object\n",
              "dtype: object"
            ]
          },
          "metadata": {
            "tags": []
          },
          "execution_count": 8
        }
      ]
    },
    {
      "cell_type": "code",
      "metadata": {
        "colab": {
          "base_uri": "https://localhost:8080/"
        },
        "id": "B8xS9LtkIMVn",
        "outputId": "1387297b-cf13-482f-85b7-acf213bae757"
      },
      "source": [
        "df.target.unique()"
      ],
      "execution_count": 9,
      "outputs": [
        {
          "output_type": "execute_result",
          "data": {
            "text/plain": [
              "array([0, 4])"
            ]
          },
          "metadata": {
            "tags": []
          },
          "execution_count": 9
        }
      ]
    },
    {
      "cell_type": "code",
      "metadata": {
        "id": "B5loqBxNQlrQ"
      },
      "source": [
        "df.target = df.target.replace(to_replace=4,value=1)"
      ],
      "execution_count": 10,
      "outputs": []
    },
    {
      "cell_type": "code",
      "metadata": {
        "colab": {
          "base_uri": "https://localhost:8080/"
        },
        "id": "R1c4k9s3Q32n",
        "outputId": "7522d324-e0e9-40bb-b740-839b9e754aef"
      },
      "source": [
        "df.target.unique()"
      ],
      "execution_count": 11,
      "outputs": [
        {
          "output_type": "execute_result",
          "data": {
            "text/plain": [
              "array([0, 1])"
            ]
          },
          "metadata": {
            "tags": []
          },
          "execution_count": 11
        }
      ]
    },
    {
      "cell_type": "markdown",
      "metadata": {
        "id": "YWer5a1s7See"
      },
      "source": [
        "Pré Processamento do texto"
      ]
    },
    {
      "cell_type": "code",
      "metadata": {
        "colab": {
          "base_uri": "https://localhost:8080/"
        },
        "id": "EObCUtwV7DMg",
        "outputId": "9bb74cf8-3507-4a2e-d727-71fa40e65c88"
      },
      "source": [
        "df_preprocess = df.copy()\n",
        "tweets = df_preprocess.text.copy()\n",
        "tweets"
      ],
      "execution_count": 12,
      "outputs": [
        {
          "output_type": "execute_result",
          "data": {
            "text/plain": [
              "0          @switchfoot http://twitpic.com/2y1zl - Awww, t...\n",
              "1          is upset that he can't update his Facebook by ...\n",
              "2          @Kenichan I dived many times for the ball. Man...\n",
              "3            my whole body feels itchy and like its on fire \n",
              "4          @nationwideclass no, it's not behaving at all....\n",
              "                                 ...                        \n",
              "1599995    Just woke up. Having no school is the best fee...\n",
              "1599996    TheWDB.com - Very cool to hear old Walt interv...\n",
              "1599997    Are you ready for your MoJo Makeover? Ask me f...\n",
              "1599998    Happy 38th Birthday to my boo of alll time!!! ...\n",
              "1599999    happy #charitytuesday @theNSPCC @SparksCharity...\n",
              "Name: text, Length: 1600000, dtype: object"
            ]
          },
          "metadata": {
            "tags": []
          },
          "execution_count": 12
        }
      ]
    },
    {
      "cell_type": "code",
      "metadata": {
        "colab": {
          "base_uri": "https://localhost:8080/",
          "height": 37
        },
        "id": "miTSezml7fxZ",
        "outputId": "7f68e149-9049-4e88-c747-4db914faa433"
      },
      "source": [
        "def removeWordWithChar(text, char_list):\n",
        "    text = text.split()\n",
        "    res = [ele for ele in text if all(ch not in ele for ch in char_list)]\n",
        "    res = ' '.join(res)\n",
        "    return res\n",
        "\n",
        "char_list = ['@', '#', 'http', 'www', '/']\n",
        "\n",
        "removeWordWithChar(tweets[1], char_list)"
      ],
      "execution_count": 13,
      "outputs": [
        {
          "output_type": "execute_result",
          "data": {
            "application/vnd.google.colaboratory.intrinsic+json": {
              "type": "string"
            },
            "text/plain": [
              "\"is upset that he can't update his Facebook by texting it... and might cry as a result School today also. Blah!\""
            ]
          },
          "metadata": {
            "tags": []
          },
          "execution_count": 13
        }
      ]
    },
    {
      "cell_type": "code",
      "metadata": {
        "id": "Pfq706Q077bp"
      },
      "source": [
        "tweets_cleaned = []\n",
        "for t in tweets:\n",
        "    tweets_cleaned.append(removeWordWithChar(t, char_list))"
      ],
      "execution_count": 14,
      "outputs": []
    },
    {
      "cell_type": "code",
      "metadata": {
        "id": "3Kfa_8cr8LWW"
      },
      "source": [
        "def tokenize(texts):\n",
        "    tokenizer = nltk.RegexpTokenizer(r'\\w+')\n",
        "\n",
        "    texts_tokens = []\n",
        "    for i, val in enumerate(texts):\n",
        "        text_tokens = tokenizer.tokenize(val.lower())\n",
        "\n",
        "        for i in range(len(text_tokens) - 1, -1, -1):\n",
        "            if len(text_tokens[i]) < 4:\n",
        "                del(text_tokens[i])\n",
        "\n",
        "        texts_tokens.append(text_tokens)\n",
        "        \n",
        "    return texts_tokens"
      ],
      "execution_count": 15,
      "outputs": []
    },
    {
      "cell_type": "code",
      "metadata": {
        "id": "dc8IWvkH8Myh"
      },
      "source": [
        "tweets_tokens = tokenize(tweets_cleaned)"
      ],
      "execution_count": 16,
      "outputs": []
    },
    {
      "cell_type": "code",
      "metadata": {
        "id": "Fqi2hlj18a-6"
      },
      "source": [
        "def removeSW(texts_tokens):\n",
        "    stopWords = set(stopwords.words('english'))\n",
        "    texts_filtered = []\n",
        "\n",
        "    for i, val in enumerate(texts_tokens):\n",
        "        text_filtered = []\n",
        "        for w in val:\n",
        "            if w not in stopWords:\n",
        "                text_filtered.append(w)\n",
        "        texts_filtered.append(text_filtered)\n",
        "        \n",
        "    return texts_filtered"
      ],
      "execution_count": 17,
      "outputs": []
    },
    {
      "cell_type": "code",
      "metadata": {
        "id": "IC6JpofD8evb"
      },
      "source": [
        "tweets_filtered = removeSW(tweets_tokens)"
      ],
      "execution_count": 18,
      "outputs": []
    },
    {
      "cell_type": "code",
      "metadata": {
        "id": "vMt1R65f8wN9"
      },
      "source": [
        "def lemma(texts_filtered):\n",
        "    wordnet_lemmatizer = WordNetLemmatizer()\n",
        "    texts_lem = []\n",
        "\n",
        "    for i, val in enumerate(texts_filtered):\n",
        "        text_lem = []\n",
        "        for word in val:\n",
        "            text_lem.append(wordnet_lemmatizer.lemmatize(word, pos=\"v\"))\n",
        "        texts_lem.append(text_lem)\n",
        "    \n",
        "    return texts_lem"
      ],
      "execution_count": 19,
      "outputs": []
    },
    {
      "cell_type": "code",
      "metadata": {
        "colab": {
          "base_uri": "https://localhost:8080/"
        },
        "id": "XlzKOMOLUEaT",
        "outputId": "aee08dc9-4b0b-4f57-f21c-d4d05149a489"
      },
      "source": [
        "nltk.download('wordnet')"
      ],
      "execution_count": 20,
      "outputs": [
        {
          "output_type": "stream",
          "text": [
            "[nltk_data] Downloading package wordnet to /root/nltk_data...\n",
            "[nltk_data]   Package wordnet is already up-to-date!\n"
          ],
          "name": "stdout"
        },
        {
          "output_type": "execute_result",
          "data": {
            "text/plain": [
              "True"
            ]
          },
          "metadata": {
            "tags": []
          },
          "execution_count": 20
        }
      ]
    },
    {
      "cell_type": "code",
      "metadata": {
        "id": "dK68iKqj8xTE"
      },
      "source": [
        "\n",
        "\n",
        "tweets_lem = lemma(tweets_filtered)"
      ],
      "execution_count": 21,
      "outputs": []
    },
    {
      "cell_type": "code",
      "metadata": {
        "id": "iwWCxgi980kd"
      },
      "source": [
        "tweets_ready = []\n",
        "for tweet in tweets_lem:\n",
        "    string = ' '\n",
        "    string = string.join(tweet)\n",
        "    tweets_ready.append(string)"
      ],
      "execution_count": 22,
      "outputs": []
    },
    {
      "cell_type": "code",
      "metadata": {
        "id": "qOseldsl88If"
      },
      "source": [
        "df_preprocess['tweet'] = tweets_ready"
      ],
      "execution_count": 25,
      "outputs": []
    },
    {
      "cell_type": "code",
      "metadata": {
        "id": "Svqbotua9g3j"
      },
      "source": [
        "df_preprocess = df_preprocess[[\"target\",\"tweet\"]]"
      ],
      "execution_count": 26,
      "outputs": []
    },
    {
      "cell_type": "code",
      "metadata": {
        "id": "eYs54c_L-YPg"
      },
      "source": [
        "from tensorflow.keras.layers import Conv1D, Bidirectional, LSTM, Dense, Input, Dropout, SpatialDropout1D, GlobalMaxPooling1D\n",
        "from tensorflow.keras.callbacks import ModelCheckpoint\n",
        "from tensorflow.keras.optimizers import Adam\n",
        "from tensorflow.keras.callbacks import ReduceLROnPlateau, EarlyStopping"
      ],
      "execution_count": 30,
      "outputs": []
    },
    {
      "cell_type": "code",
      "metadata": {
        "colab": {
          "base_uri": "https://localhost:8080/"
        },
        "id": "mMqEe9p0-ZCS",
        "outputId": "f1036d79-bde8-479a-f078-420fb3a7b542"
      },
      "source": [
        "from keras.preprocessing.text import Tokenizer\n",
        "\n",
        "tokenizer = Tokenizer()\n",
        "tokenizer.fit_on_texts(df_preprocess.tweet)\n",
        "\n",
        "word_index = tokenizer.word_index\n",
        "vocabulary_size = len(tokenizer.word_index) + 1\n",
        "print(\"Vocabulary Size :\", vocabulary_size)"
      ],
      "execution_count": 35,
      "outputs": [
        {
          "output_type": "stream",
          "text": [
            "Vocabulary Size : 249874\n"
          ],
          "name": "stdout"
        }
      ]
    },
    {
      "cell_type": "code",
      "metadata": {
        "id": "6F_S1qVDB8hw"
      },
      "source": [
        "DATASET_SIZE = df_preprocess.shape[0]"
      ],
      "execution_count": 27,
      "outputs": []
    },
    {
      "cell_type": "code",
      "metadata": {
        "id": "nxia-YbQDY-G"
      },
      "source": [
        "target = df_preprocess.pop('target')\n",
        "dataset = tf.data.Dataset.from_tensor_slices((df_preprocess.tweet.values, target.values))"
      ],
      "execution_count": 28,
      "outputs": []
    },
    {
      "cell_type": "markdown",
      "metadata": {
        "id": "sD3CfZ3mF4kt"
      },
      "source": [
        "Transformaçãp do formato pandas para Ts"
      ]
    },
    {
      "cell_type": "code",
      "metadata": {
        "id": "bZgGCL13ALOt"
      },
      "source": [
        "train_size = int(0.8 * DATASET_SIZE)\n",
        "test_size = int(0.2 * DATASET_SIZE)\n",
        "train_dataset = dataset.take(train_size)\n",
        "test_dataset = dataset.skip(train_size)\n",
        "test_dataset = test_dataset.take(test_size)"
      ],
      "execution_count": 29,
      "outputs": []
    },
    {
      "cell_type": "code",
      "metadata": {
        "colab": {
          "base_uri": "https://localhost:8080/"
        },
        "id": "MU8P-xYlC_Up",
        "outputId": "7308882f-b1be-42a2-9293-bfe7872ca840"
      },
      "source": [
        "print(f'Train_size: {train_size}\\nTest_size: {test_size}')"
      ],
      "execution_count": 30,
      "outputs": [
        {
          "output_type": "stream",
          "text": [
            "Train_size: 1280000\n",
            "Test_size: 320000\n"
          ],
          "name": "stdout"
        }
      ]
    },
    {
      "cell_type": "code",
      "metadata": {
        "id": "fGmi5ORFATjS"
      },
      "source": [
        "MAX_SEQUENCE_LENGTH = 100"
      ],
      "execution_count": null,
      "outputs": []
    },
    {
      "cell_type": "code",
      "metadata": {
        "id": "A0_v4IO7HM-7"
      },
      "source": [
        "BUFFER_SIZE = 10000\n",
        "BATCH_SIZE = 1024"
      ],
      "execution_count": 31,
      "outputs": []
    },
    {
      "cell_type": "code",
      "metadata": {
        "id": "IlIr0ENlHfGd"
      },
      "source": [
        "train_dataset = train_dataset.shuffle(BUFFER_SIZE).batch(BATCH_SIZE).prefetch(tf.data.AUTOTUNE)"
      ],
      "execution_count": 32,
      "outputs": []
    },
    {
      "cell_type": "code",
      "metadata": {
        "id": "a29g53xbJiTI"
      },
      "source": [
        "test_dataset = test_dataset.batch(BATCH_SIZE).prefetch(tf.data.AUTOTUNE)"
      ],
      "execution_count": 33,
      "outputs": []
    },
    {
      "cell_type": "code",
      "metadata": {
        "id": "l-3xP-xUJlur"
      },
      "source": [
        "\n",
        "encoder = tf.keras.layers.experimental.preprocessing.TextVectorization(\n",
        "    max_tokens=vocabulary_size)\n",
        "encoder.adapt(train_dataset.map(lambda text, label: text))"
      ],
      "execution_count": 36,
      "outputs": []
    },
    {
      "cell_type": "code",
      "metadata": {
        "colab": {
          "base_uri": "https://localhost:8080/"
        },
        "id": "R1N9tOe7Jv3y",
        "outputId": "72e1119b-bfc5-4fb4-90cb-ee1a418b61ac"
      },
      "source": [
        "vocab = np.array(encoder.get_vocabulary())\n",
        "vocab[:20]"
      ],
      "execution_count": 37,
      "outputs": [
        {
          "output_type": "execute_result",
          "data": {
            "text/plain": [
              "array(['', '[UNK]', 'work', 'go', 'like', 'good', 'today', 'quot', 'miss',\n",
              "       'love', 'time', 'think', 'want', 'back', 'know', 'feel', 'make',\n",
              "       'really', 'thank', 'still'], dtype='<U113')"
            ]
          },
          "metadata": {
            "tags": []
          },
          "execution_count": 37
        }
      ]
    },
    {
      "cell_type": "code",
      "metadata": {
        "colab": {
          "base_uri": "https://localhost:8080/"
        },
        "id": "9QiTB0b-J6K_",
        "outputId": "f545bfc4-d458-4983-d9f0-f09b73370748"
      },
      "source": [
        "encoded_example = encoder(\"I like so much\")[:3].numpy()\n",
        "encoded_example"
      ],
      "execution_count": 38,
      "outputs": [
        {
          "output_type": "execute_result",
          "data": {
            "text/plain": [
              "array([33835,     4,     1])"
            ]
          },
          "metadata": {
            "tags": []
          },
          "execution_count": 38
        }
      ]
    },
    {
      "cell_type": "markdown",
      "metadata": {
        "id": "5RalPBtPJpE_"
      },
      "source": [
        "Traning Model - A (RNN)"
      ]
    },
    {
      "cell_type": "code",
      "metadata": {
        "id": "s2cH09ZMGPJ3"
      },
      "source": [
        "model_A = tf.keras.Sequential([\n",
        "    encoder,\n",
        "    tf.keras.layers.Embedding(\n",
        "        input_dim=vocabulary_size,\n",
        "        output_dim=64,\n",
        "        # Use masking to handle the variable sequence lengths\n",
        "        mask_zero=True),\n",
        "    tf.keras.layers.Bidirectional(tf.keras.layers.LSTM(64)),\n",
        "    tf.keras.layers.Dense(64, activation='relu'),\n",
        "    tf.keras.layers.Dense(1)\n",
        "])"
      ],
      "execution_count": 41,
      "outputs": []
    },
    {
      "cell_type": "code",
      "metadata": {
        "colab": {
          "base_uri": "https://localhost:8080/"
        },
        "id": "3LD10x8KPKbW",
        "outputId": "fc99c126-1b55-4f33-d17a-50edb1e54ffe"
      },
      "source": [
        "# predict on a sample text without padding.\n",
        "\n",
        "sample_text = ('The movie was cool')\n",
        "sample_text2 = ('The movie was bad')\n",
        "predictions = model_A.predict(np.array([sample_text]))\n",
        "print(predictions[0])\n",
        "predictions = model_A.predict(np.array([sample_text2]))\n",
        "print(predictions[0])"
      ],
      "execution_count": 42,
      "outputs": [
        {
          "output_type": "stream",
          "text": [
            "[0.0010631]\n",
            "[0.00128994]\n"
          ],
          "name": "stdout"
        }
      ]
    },
    {
      "cell_type": "code",
      "metadata": {
        "id": "EW8VGMSXGaEW"
      },
      "source": [
        "model_A.compile(loss=tf.keras.losses.BinaryCrossentropy(from_logits=True),\n",
        "              optimizer=tf.keras.optimizers.Adam(0.0001),\n",
        "              metrics=['accuracy',f1_m])"
      ],
      "execution_count": 43,
      "outputs": []
    },
    {
      "cell_type": "code",
      "metadata": {
        "colab": {
          "base_uri": "https://localhost:8080/"
        },
        "id": "5cTOIog3PYqm",
        "outputId": "651d71a9-d7d7-4e8d-c70d-b887a5d0d06e"
      },
      "source": [
        "model_A.summary()"
      ],
      "execution_count": 44,
      "outputs": [
        {
          "output_type": "stream",
          "text": [
            "Model: \"sequential\"\n",
            "_________________________________________________________________\n",
            "Layer (type)                 Output Shape              Param #   \n",
            "=================================================================\n",
            "text_vectorization (TextVect (None, None)              0         \n",
            "_________________________________________________________________\n",
            "embedding (Embedding)        (None, None, 64)          15991936  \n",
            "_________________________________________________________________\n",
            "bidirectional (Bidirectional (None, 128)               66048     \n",
            "_________________________________________________________________\n",
            "dense (Dense)                (None, 64)                8256      \n",
            "_________________________________________________________________\n",
            "dense_1 (Dense)              (None, 1)                 65        \n",
            "=================================================================\n",
            "Total params: 16,066,305\n",
            "Trainable params: 16,066,305\n",
            "Non-trainable params: 0\n",
            "_________________________________________________________________\n"
          ],
          "name": "stdout"
        }
      ]
    },
    {
      "cell_type": "code",
      "metadata": {
        "colab": {
          "base_uri": "https://localhost:8080/"
        },
        "id": "hvbexVrhjDvI",
        "outputId": "4ed5f41d-ca44-4dec-8807-a3fd65959f66"
      },
      "source": [
        "%%time\n",
        "history_A = model_A.fit(train_dataset, epochs=10,\n",
        "                    validation_data=test_dataset,\n",
        "                    validation_steps=30)"
      ],
      "execution_count": 45,
      "outputs": [
        {
          "output_type": "stream",
          "text": [
            "Epoch 1/10\n",
            "1250/1250 [==============================] - 293s 229ms/step - loss: 0.4999 - accuracy: 0.8152 - f1_m: 0.1956 - val_loss: 0.0981 - val_accuracy: 1.0000 - val_f1_m: 1.0000\n",
            "Epoch 2/10\n",
            "1250/1250 [==============================] - 284s 227ms/step - loss: 0.5150 - accuracy: 0.6695 - f1_m: 0.1162 - val_loss: 0.1843 - val_accuracy: 0.9955 - val_f1_m: 0.9977\n",
            "Epoch 3/10\n",
            "1250/1250 [==============================] - 285s 228ms/step - loss: 0.3016 - accuracy: 0.8784 - f1_m: 0.3045 - val_loss: 0.0518 - val_accuracy: 0.9930 - val_f1_m: 0.9965\n",
            "Epoch 4/10\n",
            "1250/1250 [==============================] - 285s 228ms/step - loss: 0.2755 - accuracy: 0.8943 - f1_m: 0.3243 - val_loss: 0.0502 - val_accuracy: 0.9890 - val_f1_m: 0.9945\n",
            "Epoch 5/10\n",
            "1250/1250 [==============================] - 290s 232ms/step - loss: 0.2660 - accuracy: 0.8966 - f1_m: 0.3275 - val_loss: 0.0482 - val_accuracy: 0.9868 - val_f1_m: 0.9933\n",
            "Epoch 6/10\n",
            "1250/1250 [==============================] - 292s 234ms/step - loss: 0.2596 - accuracy: 0.9002 - f1_m: 0.3298 - val_loss: 0.0449 - val_accuracy: 0.9855 - val_f1_m: 0.9927\n",
            "Epoch 7/10\n",
            "1250/1250 [==============================] - 289s 231ms/step - loss: 0.2511 - accuracy: 0.9041 - f1_m: 0.3319 - val_loss: 0.0456 - val_accuracy: 0.9838 - val_f1_m: 0.9918\n",
            "Epoch 8/10\n",
            "1250/1250 [==============================] - 288s 230ms/step - loss: 0.2428 - accuracy: 0.9090 - f1_m: 0.3345 - val_loss: 0.0433 - val_accuracy: 0.9859 - val_f1_m: 0.9929\n",
            "Epoch 9/10\n",
            "1250/1250 [==============================] - 289s 231ms/step - loss: 0.2360 - accuracy: 0.9119 - f1_m: 0.3367 - val_loss: 0.0461 - val_accuracy: 0.9848 - val_f1_m: 0.9923\n",
            "Epoch 10/10\n",
            "1250/1250 [==============================] - 293s 234ms/step - loss: 0.2299 - accuracy: 0.9132 - f1_m: 0.3374 - val_loss: 0.0462 - val_accuracy: 0.9843 - val_f1_m: 0.9921\n",
            "CPU times: user 1h 24min 50s, sys: 4min 5s, total: 1h 28min 56s\n",
            "Wall time: 50min 49s\n"
          ],
          "name": "stdout"
        }
      ]
    },
    {
      "cell_type": "code",
      "metadata": {
        "colab": {
          "base_uri": "https://localhost:8080/"
        },
        "id": "xWNw9JpFjRYk",
        "outputId": "a65fa07c-d01f-4202-faf0-3d8cf9727332"
      },
      "source": [
        "test_loss, test_acc, test_f1 = model_A.evaluate(test_dataset)\n",
        "\n",
        "print('Test Loss:', test_loss)\n",
        "print('Test Accuracy:', test_acc)\n",
        "print('Test F1:', test_f1)"
      ],
      "execution_count": 46,
      "outputs": [
        {
          "output_type": "stream",
          "text": [
            "313/313 [==============================] - 5s 16ms/step - loss: 0.0452 - accuracy: 0.9845 - f1_m: 0.9922\n",
            "Test Loss: 0.045196015387773514\n",
            "Test Accuracy: 0.9845437407493591\n",
            "Test F1: 0.9922008514404297\n"
          ],
          "name": "stdout"
        }
      ]
    },
    {
      "cell_type": "code",
      "metadata": {
        "id": "oRnjhjSwjidW"
      },
      "source": [
        "import matplotlib.pyplot as plt\n",
        "\n",
        "\n",
        "def plot_graphs(history, metric):\n",
        "  plt.plot(history.history[metric])\n",
        "  plt.plot(history.history['val_'+metric], '')\n",
        "  plt.xlabel(\"Epochs\")\n",
        "  plt.ylabel(metric)\n",
        "  plt.legend([metric, 'val_'+metric])"
      ],
      "execution_count": 47,
      "outputs": []
    },
    {
      "cell_type": "code",
      "metadata": {
        "colab": {
          "base_uri": "https://localhost:8080/",
          "height": 626
        },
        "id": "8lSPK6G5jaUw",
        "outputId": "ca073851-7737-4a67-e564-3bd761e4adc7"
      },
      "source": [
        "plt.figure(figsize=(16, 10))\n",
        "plt.subplot(1, 2, 1)\n",
        "plot_graphs(history_A, 'accuracy')\n",
        "plt.ylim(None, 1)\n",
        "plt.subplot(1, 2, 2)\n",
        "plot_graphs(history_A, 'loss')\n",
        "plt.ylim(0, None)\n"
      ],
      "execution_count": 48,
      "outputs": [
        {
          "output_type": "execute_result",
          "data": {
            "text/plain": [
              "(0.0, 0.5385579125955701)"
            ]
          },
          "metadata": {
            "tags": []
          },
          "execution_count": 48
        },
        {
          "output_type": "display_data",
          "data": {
            "image/png": "[encoded data removed]",
            "text/plain": [
              "<Figure size 1152x720 with 2 Axes>"
            ]
          },
          "metadata": {
            "tags": [],
            "needs_background": "light"
          }
        }
      ]
    },
    {
      "cell_type": "code",
      "metadata": {
        "id": "z4rgAo0KjkFQ"
      },
      "source": [
        "##Second configuration"
      ],
      "execution_count": null,
      "outputs": []
    },
    {
      "cell_type": "code",
      "metadata": {
        "id": "yVs3p3s7n1s-"
      },
      "source": [
        "model_B = tf.keras.Sequential([\n",
        "    encoder,\n",
        "    tf.keras.layers.Embedding(len(encoder.get_vocabulary()), 64, mask_zero=True),\n",
        "    tf.keras.layers.Bidirectional(tf.keras.layers.LSTM(64,  return_sequences=True)),\n",
        "    tf.keras.layers.Bidirectional(tf.keras.layers.LSTM(32)),\n",
        "    tf.keras.layers.Dense(64, activation='relu'),\n",
        "    tf.keras.layers.Dropout(0.5),\n",
        "    tf.keras.layers.Dense(1)\n",
        "])"
      ],
      "execution_count": 49,
      "outputs": []
    },
    {
      "cell_type": "code",
      "metadata": {
        "id": "jpYtSLV3n4Se"
      },
      "source": [
        "model_B.compile(loss=tf.keras.losses.BinaryCrossentropy(from_logits=True),\n",
        "              optimizer=tf.keras.optimizers.Adam(0.001),\n",
        "              metrics=['accuracy',f1_m])"
      ],
      "execution_count": 50,
      "outputs": []
    },
    {
      "cell_type": "code",
      "metadata": {
        "colab": {
          "base_uri": "https://localhost:8080/"
        },
        "id": "RGOqVDwtoC68",
        "outputId": "300c3683-0992-4242-af5e-c3a8a7a71b55"
      },
      "source": [
        "history_B = model_B.fit(train_dataset, epochs=10,\n",
        "                    validation_data=test_dataset,\n",
        "                    validation_steps=30)"
      ],
      "execution_count": null,
      "outputs": [
        {
          "output_type": "stream",
          "text": [
            "Epoch 1/10\n",
            " 280/1250 [=====>........................] - ETA: 4:49 - loss: 0.0495 - accuracy: 1.0000 - f1_m: 0.0000e+00"
          ],
          "name": "stdout"
        }
      ]
    },
    {
      "cell_type": "code",
      "metadata": {
        "id": "CMj276b5oFKO"
      },
      "source": [
        "test_loss, test_acc, test_f1 = model_B.evaluate(test_dataset)\n",
        "\n",
        "print('Test Loss:', test_loss)\n",
        "print('Test Accuracy:', test_acc)\n",
        "print('Test F1:', test_f1)"
      ],
      "execution_count": null,
      "outputs": []
    },
    {
      "cell_type": "code",
      "metadata": {
        "id": "ijQa2apDoHsO"
      },
      "source": [
        "# predict on a sample text without padding.\n",
        "\n",
        "sample_text = ('The movie was not good. The animation and the graphics '\n",
        "               'were terrible. I would not recommend this movie.')\n",
        "sample_text2 = ('The movie was cool. The animation and the graphics '\n",
        "               'were out of this world. I would recommend this movie.')\n",
        "predictions = model.predict(np.array([sample_text]))\n",
        "predictions2 = model.predict(np.array([sample_text2]))\n",
        "print(predictions,predictions2)"
      ],
      "execution_count": null,
      "outputs": []
    },
    {
      "cell_type": "code",
      "metadata": {
        "id": "naiGZm4IoJ4Y"
      },
      "source": [
        "plt.figure(figsize=(16, 6))\n",
        "plt.subplot(1, 2, 1)\n",
        "plot_graphs(history, 'accuracy')\n",
        "plt.subplot(1, 2, 2)\n",
        "plot_graphs(history, 'loss')"
      ],
      "execution_count": null,
      "outputs": []
    },
    {
      "cell_type": "code",
      "metadata": {
        "id": "k_Byt6JFoLuW"
      },
      "source": [
        ""
      ],
      "execution_count": null,
      "outputs": []
    }
  ]
}