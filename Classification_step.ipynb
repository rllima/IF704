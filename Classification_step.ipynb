{
  "nbformat": 4,
  "nbformat_minor": 0,
  "metadata": {
    "colab": {
      "name": "Classification step.ipynb",
      "provenance": [],
      "collapsed_sections": [],
      "mount_file_id": "1dhm9_-gBkGm8o4uzhGrXuuNxBm72QqRn",
      "authorship_tag": "ABX9TyNPT4TuBufavVXXgc6i2mIz",
      "include_colab_link": true
    },
    "kernelspec": {
      "name": "python3",
      "display_name": "Python 3"
    },
    "language_info": {
      "name": "python"
    },
    "accelerator": "GPU"
  },
  "cells": [
    {
      "cell_type": "markdown",
      "metadata": {
        "id": "view-in-github",
        "colab_type": "text"
      },
      "source": [
        "<a href=\"https://colab.research.google.com/github/rllima/IF704/blob/main/Classification_step.ipynb\" target=\"_parent\"><img src=\"https://colab.research.google.com/assets/colab-badge.svg\" alt=\"Open In Colab\"/></a>"
      ]
    },
    {
      "cell_type": "code",
      "metadata": {
        "id": "jLoWQFrQ6hjS"
      },
      "source": [
        "import pandas as pd\n",
        "import numpy as np"
      ],
      "execution_count": 2,
      "outputs": []
    },
    {
      "cell_type": "code",
      "metadata": {
        "id": "jispjA-F63UO"
      },
      "source": [
        "from __future__ import absolute_import, division, print_function, unicode_literals\n",
        "\n",
        "try:\n",
        "  # %tensorflow_version only exists in Colab.\n",
        "  %tensorflow_version 2.x\n",
        "except Exception:\n",
        "  pass\n",
        "import tensorflow as tf\n",
        "from google.colab import drive"
      ],
      "execution_count": 3,
      "outputs": []
    },
    {
      "cell_type": "code",
      "metadata": {
        "id": "gsZ5YUmDtFxh"
      },
      "source": [
        "##Metrics functions\n",
        "#Metrics have been removed from Keras core. You need to calculate them manually. \n",
        "#They removed them on 2.0 version. Those metrics are all global metrics, but Keras works in batches. As a result, it might be more misleading than helpful.\n",
        "\n",
        "from keras import backend as K\n",
        "\n",
        "def recall_m(y_true, y_pred):\n",
        "    true_positives = K.sum(K.round(K.clip(y_true * y_pred, 0, 1)))\n",
        "    possible_positives = K.sum(K.round(K.clip(y_true, 0, 1)))\n",
        "    recall = true_positives / (possible_positives + K.epsilon())\n",
        "    return recall\n",
        "\n",
        "def precision_m(y_true, y_pred):\n",
        "    true_positives = K.sum(K.round(K.clip(y_true * y_pred, 0, 1)))\n",
        "    predicted_positives = K.sum(K.round(K.clip(y_pred, 0, 1)))\n",
        "    precision = true_positives / (predicted_positives + K.epsilon())\n",
        "    return precision\n",
        "\n",
        "def f1_m(y_true, y_pred):\n",
        "    precision = precision_m(y_true, y_pred)\n",
        "    recall = recall_m(y_true, y_pred)\n",
        "    return 2*((precision*recall)/(precision+recall+K.epsilon()))"
      ],
      "execution_count": 4,
      "outputs": []
    },
    {
      "cell_type": "code",
      "metadata": {
        "colab": {
          "base_uri": "https://localhost:8080/"
        },
        "id": "OJZgvCnV9_N2",
        "outputId": "7878e211-999f-4bed-e461-3eef91d63337"
      },
      "source": [
        "!apt install unzip"
      ],
      "execution_count": null,
      "outputs": [
        {
          "output_type": "stream",
          "text": [
            "Reading package lists... Done\n",
            "Building dependency tree       \n",
            "Reading state information... Done\n",
            "unzip is already the newest version (6.0-21ubuntu1.1).\n",
            "0 upgraded, 0 newly installed, 0 to remove and 39 not upgraded.\n"
          ],
          "name": "stdout"
        }
      ]
    },
    {
      "cell_type": "code",
      "metadata": {
        "colab": {
          "base_uri": "https://localhost:8080/"
        },
        "id": "rvMcOPVgAPhS",
        "outputId": "f52f3fe6-a6dd-4e4c-fafb-496ff2f6a901"
      },
      "source": [
        "drive.mount('/content/drive/',force_remount=True)"
      ],
      "execution_count": 5,
      "outputs": [
        {
          "output_type": "stream",
          "text": [
            "Mounted at /content/drive/\n"
          ],
          "name": "stdout"
        }
      ]
    },
    {
      "cell_type": "code",
      "metadata": {
        "id": "N9a76Sqs7w0o"
      },
      "source": [
        "#Download do dataset\n",
        "import requests, zipfile, io\n",
        "r = requests.get(\"http://cs.stanford.edu/people/alecmgo/trainingandtestdata.zip\")\n",
        "z = zipfile.ZipFile(io.BytesIO(r.content))\n",
        "z.extractall(\"/content/drive/My Drive/IF704\")\n",
        "z.close()"
      ],
      "execution_count": 6,
      "outputs": []
    },
    {
      "cell_type": "code",
      "metadata": {
        "colab": {
          "base_uri": "https://localhost:8080/"
        },
        "id": "64NUK0IM_Czm",
        "outputId": "fb7725eb-629f-4712-cd7b-45f106b21e6b"
      },
      "source": [
        "!ls \"/content/drive/My Drive/IF704/\""
      ],
      "execution_count": null,
      "outputs": [
        {
          "output_type": "stream",
          "text": [
            "testdata.manual.2009.06.14.csv\ttraining.1600000.processed.noemoticon.csv\n"
          ],
          "name": "stdout"
        }
      ]
    },
    {
      "cell_type": "code",
      "metadata": {
        "id": "DOpmzq4D_L8P"
      },
      "source": [
        "df = pd.read_csv(\"/content/drive/My Drive/IF704/training.1600000.processed.noemoticon.csv\",\n",
        "                 names = [\"target\",\"id\",\"date\",\"query\",\"user\",\"text\"], header=None, encoding='latin-1')"
      ],
      "execution_count": 7,
      "outputs": []
    },
    {
      "cell_type": "code",
      "metadata": {
        "colab": {
          "base_uri": "https://localhost:8080/",
          "height": 204
        },
        "id": "mhHcX5QvCeif",
        "outputId": "a2971796-d0b4-4c4f-8ed1-2602106b89c5"
      },
      "source": [
        "df.head()"
      ],
      "execution_count": 8,
      "outputs": [
        {
          "output_type": "execute_result",
          "data": {
            "text/html": [
              "<div>\n",
              "<style scoped>\n",
              "    .dataframe tbody tr th:only-of-type {\n",
              "        vertical-align: middle;\n",
              "    }\n",
              "\n",
              "    .dataframe tbody tr th {\n",
              "        vertical-align: top;\n",
              "    }\n",
              "\n",
              "    .dataframe thead th {\n",
              "        text-align: right;\n",
              "    }\n",
              "</style>\n",
              "<table border=\"1\" class=\"dataframe\">\n",
              "  <thead>\n",
              "    <tr style=\"text-align: right;\">\n",
              "      <th></th>\n",
              "      <th>target</th>\n",
              "      <th>id</th>\n",
              "      <th>date</th>\n",
              "      <th>query</th>\n",
              "      <th>user</th>\n",
              "      <th>text</th>\n",
              "    </tr>\n",
              "  </thead>\n",
              "  <tbody>\n",
              "    <tr>\n",
              "      <th>0</th>\n",
              "      <td>0</td>\n",
              "      <td>1467810369</td>\n",
              "      <td>Mon Apr 06 22:19:45 PDT 2009</td>\n",
              "      <td>NO_QUERY</td>\n",
              "      <td>_TheSpecialOne_</td>\n",
              "      <td>@switchfoot http://twitpic.com/2y1zl - Awww, t...</td>\n",
              "    </tr>\n",
              "    <tr>\n",
              "      <th>1</th>\n",
              "      <td>0</td>\n",
              "      <td>1467810672</td>\n",
              "      <td>Mon Apr 06 22:19:49 PDT 2009</td>\n",
              "      <td>NO_QUERY</td>\n",
              "      <td>scotthamilton</td>\n",
              "      <td>is upset that he can't update his Facebook by ...</td>\n",
              "    </tr>\n",
              "    <tr>\n",
              "      <th>2</th>\n",
              "      <td>0</td>\n",
              "      <td>1467810917</td>\n",
              "      <td>Mon Apr 06 22:19:53 PDT 2009</td>\n",
              "      <td>NO_QUERY</td>\n",
              "      <td>mattycus</td>\n",
              "      <td>@Kenichan I dived many times for the ball. Man...</td>\n",
              "    </tr>\n",
              "    <tr>\n",
              "      <th>3</th>\n",
              "      <td>0</td>\n",
              "      <td>1467811184</td>\n",
              "      <td>Mon Apr 06 22:19:57 PDT 2009</td>\n",
              "      <td>NO_QUERY</td>\n",
              "      <td>ElleCTF</td>\n",
              "      <td>my whole body feels itchy and like its on fire</td>\n",
              "    </tr>\n",
              "    <tr>\n",
              "      <th>4</th>\n",
              "      <td>0</td>\n",
              "      <td>1467811193</td>\n",
              "      <td>Mon Apr 06 22:19:57 PDT 2009</td>\n",
              "      <td>NO_QUERY</td>\n",
              "      <td>Karoli</td>\n",
              "      <td>@nationwideclass no, it's not behaving at all....</td>\n",
              "    </tr>\n",
              "  </tbody>\n",
              "</table>\n",
              "</div>"
            ],
            "text/plain": [
              "   target  ...                                               text\n",
              "0       0  ...  @switchfoot http://twitpic.com/2y1zl - Awww, t...\n",
              "1       0  ...  is upset that he can't update his Facebook by ...\n",
              "2       0  ...  @Kenichan I dived many times for the ball. Man...\n",
              "3       0  ...    my whole body feels itchy and like its on fire \n",
              "4       0  ...  @nationwideclass no, it's not behaving at all....\n",
              "\n",
              "[5 rows x 6 columns]"
            ]
          },
          "metadata": {
            "tags": []
          },
          "execution_count": 8
        }
      ]
    },
    {
      "cell_type": "code",
      "metadata": {
        "colab": {
          "base_uri": "https://localhost:8080/"
        },
        "id": "dG-ywwlmHSk_",
        "outputId": "908436ca-e987-476a-9758-15068d939a26"
      },
      "source": [
        "df.dtypes"
      ],
      "execution_count": 9,
      "outputs": [
        {
          "output_type": "execute_result",
          "data": {
            "text/plain": [
              "target     int64\n",
              "id         int64\n",
              "date      object\n",
              "query     object\n",
              "user      object\n",
              "text      object\n",
              "dtype: object"
            ]
          },
          "metadata": {
            "tags": []
          },
          "execution_count": 9
        }
      ]
    },
    {
      "cell_type": "code",
      "metadata": {
        "colab": {
          "base_uri": "https://localhost:8080/"
        },
        "id": "B8xS9LtkIMVn",
        "outputId": "6e056ab1-2804-4058-9728-d67c058088f7"
      },
      "source": [
        "df.target.unique()"
      ],
      "execution_count": null,
      "outputs": [
        {
          "output_type": "execute_result",
          "data": {
            "text/plain": [
              "array([0, 4])"
            ]
          },
          "metadata": {
            "tags": []
          },
          "execution_count": 135
        }
      ]
    },
    {
      "cell_type": "code",
      "metadata": {
        "id": "B5loqBxNQlrQ"
      },
      "source": [
        "df.target = df.target.replace(to_replace=4,value=1)"
      ],
      "execution_count": 10,
      "outputs": []
    },
    {
      "cell_type": "code",
      "metadata": {
        "colab": {
          "base_uri": "https://localhost:8080/"
        },
        "id": "R1c4k9s3Q32n",
        "outputId": "5b71fa4a-b6a9-4156-fd0a-a140a5c82578"
      },
      "source": [
        "df.target.unique()"
      ],
      "execution_count": 11,
      "outputs": [
        {
          "output_type": "execute_result",
          "data": {
            "text/plain": [
              "array([0, 1])"
            ]
          },
          "metadata": {
            "tags": []
          },
          "execution_count": 11
        }
      ]
    },
    {
      "cell_type": "markdown",
      "metadata": {
        "id": "sD3CfZ3mF4kt"
      },
      "source": [
        "Transformaçãp do formato pandas para Ts"
      ]
    },
    {
      "cell_type": "code",
      "metadata": {
        "id": "P7MytPvvFe_k"
      },
      "source": [
        "target = df.pop('target')"
      ],
      "execution_count": 12,
      "outputs": []
    },
    {
      "cell_type": "code",
      "metadata": {
        "id": "XoW6RrpNG0ek"
      },
      "source": [
        "dataset = tf.data.Dataset.from_tensor_slices((df.text.values, target.values))"
      ],
      "execution_count": 13,
      "outputs": []
    },
    {
      "cell_type": "code",
      "metadata": {
        "colab": {
          "base_uri": "https://localhost:8080/"
        },
        "id": "RsNLgRPCG9VW",
        "outputId": "1da5d444-bea4-47e2-87d2-918dc5902f4c"
      },
      "source": [
        "for feat, targ in dataset.take(5):\n",
        "  print ('Features: {}, Target: {}'.format(feat, targ))"
      ],
      "execution_count": 14,
      "outputs": [
        {
          "output_type": "stream",
          "text": [
            "Features: b\"@switchfoot http://twitpic.com/2y1zl - Awww, that's a bummer.  You shoulda got David Carr of Third Day to do it. ;D\", Target: 0\n",
            "Features: b\"is upset that he can't update his Facebook by texting it... and might cry as a result  School today also. Blah!\", Target: 0\n",
            "Features: b'@Kenichan I dived many times for the ball. Managed to save 50%  The rest go out of bounds', Target: 0\n",
            "Features: b'my whole body feels itchy and like its on fire ', Target: 0\n",
            "Features: b\"@nationwideclass no, it's not behaving at all. i'm mad. why am i here? because I can't see you all over there. \", Target: 0\n"
          ],
          "name": "stdout"
        }
      ]
    },
    {
      "cell_type": "code",
      "metadata": {
        "id": "Z22N6YY7JEzn"
      },
      "source": [
        "DATASET_SIZE = df.shape[0]"
      ],
      "execution_count": 15,
      "outputs": []
    },
    {
      "cell_type": "code",
      "metadata": {
        "id": "aMlrtCkdI-AF"
      },
      "source": [
        "train_size = int(0.8 * DATASET_SIZE)\n",
        "test_size = int(0.2 * DATASET_SIZE)\n",
        "train_dataset = dataset.take(train_size)\n",
        "test_dataset = dataset.skip(train_size)\n",
        "test_dataset = test_dataset.take(test_size)"
      ],
      "execution_count": 16,
      "outputs": []
    },
    {
      "cell_type": "code",
      "metadata": {
        "colab": {
          "base_uri": "https://localhost:8080/"
        },
        "id": "_H2bGK7VUdFi",
        "outputId": "7d019708-0067-44ac-826a-848ec958dc25"
      },
      "source": [
        "from collections import Counter\n",
        "results = Counter()\n",
        "df['text'].str.lower().str.split().apply(results.update)\n",
        "print(len(results))"
      ],
      "execution_count": null,
      "outputs": [
        {
          "output_type": "stream",
          "text": [
            "1193584\n"
          ],
          "name": "stdout"
        }
      ]
    },
    {
      "cell_type": "code",
      "metadata": {
        "id": "A0_v4IO7HM-7"
      },
      "source": [
        "BUFFER_SIZE = 10000\n",
        "BATCH_SIZE = 128"
      ],
      "execution_count": 17,
      "outputs": []
    },
    {
      "cell_type": "code",
      "metadata": {
        "id": "IlIr0ENlHfGd"
      },
      "source": [
        "train_dataset = train_dataset.shuffle(BUFFER_SIZE).batch(BATCH_SIZE).prefetch(tf.data.AUTOTUNE)"
      ],
      "execution_count": 18,
      "outputs": []
    },
    {
      "cell_type": "code",
      "metadata": {
        "id": "a29g53xbJiTI"
      },
      "source": [
        "test_dataset = test_dataset.batch(BATCH_SIZE).prefetch(tf.data.AUTOTUNE)"
      ],
      "execution_count": 19,
      "outputs": []
    },
    {
      "cell_type": "code",
      "metadata": {
        "id": "l-3xP-xUJlur"
      },
      "source": [
        "VOCAB_SIZE = 10000\n",
        "encoder = tf.keras.layers.experimental.preprocessing.TextVectorization(\n",
        "    max_tokens=VOCAB_SIZE)\n",
        "encoder.adapt(train_dataset.map(lambda text, label: text))"
      ],
      "execution_count": 20,
      "outputs": []
    },
    {
      "cell_type": "code",
      "metadata": {
        "colab": {
          "base_uri": "https://localhost:8080/"
        },
        "id": "R1N9tOe7Jv3y",
        "outputId": "870a9dcf-be9c-4461-90b6-0db433361720"
      },
      "source": [
        "vocab = np.array(encoder.get_vocabulary())\n",
        "vocab[:20]"
      ],
      "execution_count": 21,
      "outputs": [
        {
          "output_type": "execute_result",
          "data": {
            "text/plain": [
              "array(['', '[UNK]', 'i', 'to', 'the', 'a', 'my', 'and', 'you', 'is', 'it',\n",
              "       'in', 'for', 'of', 'im', 'on', 'me', 'so', 'have', 'that'],\n",
              "      dtype='<U27')"
            ]
          },
          "metadata": {
            "tags": []
          },
          "execution_count": 21
        }
      ]
    },
    {
      "cell_type": "code",
      "metadata": {
        "colab": {
          "base_uri": "https://localhost:8080/"
        },
        "id": "9QiTB0b-J6K_",
        "outputId": "feb43d34-a5fa-4285-a468-329736fc3730"
      },
      "source": [
        "encoded_example = encoder(\"I like so much\")[:3].numpy()\n",
        "encoded_example"
      ],
      "execution_count": 22,
      "outputs": [
        {
          "output_type": "execute_result",
          "data": {
            "text/plain": [
              "array([ 2, 37, 17])"
            ]
          },
          "metadata": {
            "tags": []
          },
          "execution_count": 22
        }
      ]
    },
    {
      "cell_type": "code",
      "metadata": {
        "id": "ytp5kUw1J_d2"
      },
      "source": [
        "model = tf.keras.Sequential([\n",
        "    encoder,\n",
        "    tf.keras.layers.Embedding(\n",
        "        input_dim=len(encoder.get_vocabulary()),\n",
        "        output_dim=64,\n",
        "        # Use masking to handle the variable sequence lengths\n",
        "        mask_zero=True),\n",
        "    tf.keras.layers.Bidirectional(tf.keras.layers.LSTM(64)),\n",
        "    tf.keras.layers.Dense(64, activation='relu'),\n",
        "    tf.keras.layers.Dense(1)\n",
        "])"
      ],
      "execution_count": 23,
      "outputs": []
    },
    {
      "cell_type": "code",
      "metadata": {
        "colab": {
          "base_uri": "https://localhost:8080/"
        },
        "id": "BzLFbDwjghFX",
        "outputId": "93637897-eac5-4cd1-c06d-ce46f43fa50b"
      },
      "source": [
        "print([layer.supports_masking for layer in model.layers])"
      ],
      "execution_count": 24,
      "outputs": [
        {
          "output_type": "stream",
          "text": [
            "[False, True, True, True, True]\n"
          ],
          "name": "stdout"
        }
      ]
    },
    {
      "cell_type": "code",
      "metadata": {
        "colab": {
          "base_uri": "https://localhost:8080/"
        },
        "id": "XoIdhggwgnb0",
        "outputId": "683f05ed-e596-4c5a-cea9-eb184a91cb78"
      },
      "source": [
        "# predict on a sample text without padding.\n",
        "\n",
        "sample_text = ('The movie was cool')\n",
        "sample_text2 = ('The movie was bad :(')\n",
        "predictions = model.predict(np.array([sample_text]))\n",
        "print(predictions[0])\n",
        "predictions = model.predict(np.array([sample_text2]))\n",
        "print(predictions[0])\n"
      ],
      "execution_count": 25,
      "outputs": [
        {
          "output_type": "stream",
          "text": [
            "[-0.00324312]\n",
            "[-0.004762]\n"
          ],
          "name": "stdout"
        }
      ]
    },
    {
      "cell_type": "code",
      "metadata": {
        "id": "Ylj1nopohSRd"
      },
      "source": [
        "model.compile(loss=tf.keras.losses.BinaryCrossentropy(from_logits=True),\n",
        "              optimizer=tf.keras.optimizers.Adam(0.0001),\n",
        "              metrics=['accuracy',f1_m])"
      ],
      "execution_count": 26,
      "outputs": []
    },
    {
      "cell_type": "markdown",
      "metadata": {
        "id": "5RalPBtPJpE_"
      },
      "source": [
        "Traning Model"
      ]
    },
    {
      "cell_type": "code",
      "metadata": {
        "colab": {
          "base_uri": "https://localhost:8080/"
        },
        "id": "hvbexVrhjDvI",
        "outputId": "ad51712f-f927-4229-d09e-b19e231d1281"
      },
      "source": [
        "history = model.fit(train_dataset, epochs=5,\n",
        "                    validation_data=test_dataset,\n",
        "                    validation_steps=30)"
      ],
      "execution_count": 27,
      "outputs": [
        {
          "output_type": "stream",
          "text": [
            "Epoch 1/5\n",
            "10000/10000 [==============================] - 216s 21ms/step - loss: 0.0492 - accuracy: 0.9918 - f1_m: 0.3694 - val_loss: 2.7410e-04 - val_accuracy: 1.0000 - val_f1_m: 1.0000\n",
            "Epoch 2/5\n",
            "10000/10000 [==============================] - 211s 21ms/step - loss: 0.0541 - accuracy: 0.9871 - f1_m: 0.3724 - val_loss: 1.7522e-04 - val_accuracy: 1.0000 - val_f1_m: 1.0000\n",
            "Epoch 3/5\n",
            "10000/10000 [==============================] - 211s 21ms/step - loss: 0.0394 - accuracy: 0.9909 - f1_m: 0.3736 - val_loss: 1.2591e-04 - val_accuracy: 1.0000 - val_f1_m: 1.0000\n",
            "Epoch 4/5\n",
            "10000/10000 [==============================] - 207s 21ms/step - loss: 0.0277 - accuracy: 0.9924 - f1_m: 0.3738 - val_loss: 9.5447e-05 - val_accuracy: 1.0000 - val_f1_m: 1.0000\n",
            "Epoch 5/5\n",
            "10000/10000 [==============================] - 208s 21ms/step - loss: 0.0239 - accuracy: 0.9933 - f1_m: 0.3744 - val_loss: 6.1316e-05 - val_accuracy: 1.0000 - val_f1_m: 1.0000\n"
          ],
          "name": "stdout"
        }
      ]
    },
    {
      "cell_type": "code",
      "metadata": {
        "colab": {
          "base_uri": "https://localhost:8080/"
        },
        "id": "xWNw9JpFjRYk",
        "outputId": "a8075f50-9174-4f61-fc61-9dcddd1c07ab"
      },
      "source": [
        "test_loss, test_acc, test_f1 = model.evaluate(test_dataset)\n",
        "\n",
        "print('Test Loss:', test_loss)\n",
        "print('Test Accuracy:', test_acc)\n",
        "print('Test F1:', test_f1)"
      ],
      "execution_count": 29,
      "outputs": [
        {
          "output_type": "stream",
          "text": [
            "2500/2500 [==============================] - 18s 7ms/step - loss: 8.7488e-05 - accuracy: 1.0000 - f1_m: 1.0000\n",
            "Test Loss: 8.748838445171714e-05\n",
            "Test Accuracy: 0.9999812245368958\n",
            "Test F1: 0.9999906420707703\n"
          ],
          "name": "stdout"
        }
      ]
    },
    {
      "cell_type": "code",
      "metadata": {
        "id": "oRnjhjSwjidW"
      },
      "source": [
        "import matplotlib.pyplot as plt\n",
        "\n",
        "\n",
        "def plot_graphs(history, metric):\n",
        "  plt.plot(history.history[metric])\n",
        "  plt.plot(history.history['val_'+metric], '')\n",
        "  plt.xlabel(\"Epochs\")\n",
        "  plt.ylabel(metric)\n",
        "  plt.legend([metric, 'val_'+metric])"
      ],
      "execution_count": 30,
      "outputs": []
    },
    {
      "cell_type": "code",
      "metadata": {
        "colab": {
          "base_uri": "https://localhost:8080/",
          "height": 626
        },
        "id": "8lSPK6G5jaUw",
        "outputId": "f603994a-4bc5-4d61-86fd-f23dd674eb32"
      },
      "source": [
        "plt.figure(figsize=(16, 10))\n",
        "plt.subplot(1, 2, 1)\n",
        "plot_graphs(history, 'accuracy')\n",
        "plt.ylim(None, 1)\n",
        "plt.subplot(1, 2, 2)\n",
        "plot_graphs(history, 'loss')\n",
        "plt.ylim(0, None)\n"
      ],
      "execution_count": 39,
      "outputs": [
        {
          "output_type": "execute_result",
          "data": {
            "text/plain": [
              "(0.0, 0.05677744721688214)"
            ]
          },
          "metadata": {
            "tags": []
          },
          "execution_count": 39
        },
        {
          "output_type": "display_data",
          "data": {
            "image/png": "[encoded data removed]",
            "text/plain": [
              "<Figure size 1152x720 with 2 Axes>"
            ]
          },
          "metadata": {
            "tags": [],
            "needs_background": "light"
          }
        }
      ]
    },
    {
      "cell_type": "code",
      "metadata": {
        "id": "z4rgAo0KjkFQ"
      },
      "source": [
        "##Second configuration"
      ],
      "execution_count": null,
      "outputs": []
    },
    {
      "cell_type": "code",
      "metadata": {
        "id": "yVs3p3s7n1s-"
      },
      "source": [
        "model = tf.keras.Sequential([\n",
        "    encoder,\n",
        "    tf.keras.layers.Embedding(len(encoder.get_vocabulary()), 64, mask_zero=True),\n",
        "    tf.keras.layers.Bidirectional(tf.keras.layers.LSTM(64,  return_sequences=True)),\n",
        "    tf.keras.layers.Bidirectional(tf.keras.layers.LSTM(32)),\n",
        "    tf.keras.layers.Dense(64, activation='relu'),\n",
        "    tf.keras.layers.Dropout(0.5),\n",
        "    tf.keras.layers.Dense(1)\n",
        "])"
      ],
      "execution_count": 42,
      "outputs": []
    },
    {
      "cell_type": "code",
      "metadata": {
        "id": "jpYtSLV3n4Se"
      },
      "source": [
        "model.compile(loss=tf.keras.losses.BinaryCrossentropy(from_logits=True),\n",
        "              optimizer=tf.keras.optimizers.Adam(0.00001),\n",
        "              metrics=['accuracy',f1_m])"
      ],
      "execution_count": 43,
      "outputs": []
    },
    {
      "cell_type": "code",
      "metadata": {
        "colab": {
          "base_uri": "https://localhost:8080/"
        },
        "id": "RGOqVDwtoC68",
        "outputId": "365226b1-7384-4c14-b2a7-a4ca771d2b2f"
      },
      "source": [
        "history = model.fit(train_dataset, epochs=10,\n",
        "                    validation_data=test_dataset,\n",
        "                    validation_steps=30)"
      ],
      "execution_count": 44,
      "outputs": [
        {
          "output_type": "stream",
          "text": [
            "Epoch 1/10\n",
            "10000/10000 [==============================] - 329s 31ms/step - loss: 0.4754 - accuracy: 0.7371 - f1_m: 0.1246 - val_loss: 0.1333 - val_accuracy: 0.9932 - val_f1_m: 0.9966\n",
            "Epoch 2/10\n",
            "10000/10000 [==============================] - 317s 32ms/step - loss: 0.5402 - accuracy: 0.7400 - f1_m: 0.1749 - val_loss: 0.0469 - val_accuracy: 0.9979 - val_f1_m: 0.9990\n",
            "Epoch 3/10\n",
            "10000/10000 [==============================] - 313s 31ms/step - loss: 0.2812 - accuracy: 0.9022 - f1_m: 0.3299 - val_loss: 0.0181 - val_accuracy: 1.0000 - val_f1_m: 1.0000\n",
            "Epoch 4/10\n",
            "10000/10000 [==============================] - 312s 31ms/step - loss: 0.1794 - accuracy: 0.9494 - f1_m: 0.3594 - val_loss: 0.0087 - val_accuracy: 0.9997 - val_f1_m: 0.9999\n",
            "Epoch 5/10\n",
            "10000/10000 [==============================] - 312s 31ms/step - loss: 0.1154 - accuracy: 0.9729 - f1_m: 0.3686 - val_loss: 0.0049 - val_accuracy: 0.9997 - val_f1_m: 0.9999\n",
            "Epoch 6/10\n",
            "10000/10000 [==============================] - 310s 31ms/step - loss: 0.0875 - accuracy: 0.9812 - f1_m: 0.3719 - val_loss: 0.0032 - val_accuracy: 0.9997 - val_f1_m: 0.9999\n",
            "Epoch 7/10\n",
            "10000/10000 [==============================] - 310s 31ms/step - loss: 0.0721 - accuracy: 0.9848 - f1_m: 0.3731 - val_loss: 0.0024 - val_accuracy: 0.9997 - val_f1_m: 0.9999\n",
            "Epoch 8/10\n",
            "10000/10000 [==============================] - 311s 31ms/step - loss: 0.0613 - accuracy: 0.9870 - f1_m: 0.3740 - val_loss: 0.0019 - val_accuracy: 0.9997 - val_f1_m: 0.9999\n",
            "Epoch 9/10\n",
            "10000/10000 [==============================] - 313s 31ms/step - loss: 0.0555 - accuracy: 0.9881 - f1_m: 0.3746 - val_loss: 0.0015 - val_accuracy: 0.9997 - val_f1_m: 0.9999\n",
            "Epoch 10/10\n",
            "10000/10000 [==============================] - 312s 31ms/step - loss: 0.0521 - accuracy: 0.9888 - f1_m: 0.3749 - val_loss: 0.0013 - val_accuracy: 0.9997 - val_f1_m: 0.9999\n"
          ],
          "name": "stdout"
        }
      ]
    },
    {
      "cell_type": "code",
      "metadata": {
        "colab": {
          "base_uri": "https://localhost:8080/"
        },
        "id": "CMj276b5oFKO",
        "outputId": "493393c0-f4e4-414d-a48d-6c6aa454880f"
      },
      "source": [
        "test_loss, test_acc, test_f1 = model.evaluate(test_dataset)\n",
        "\n",
        "print('Test Loss:', test_loss)\n",
        "print('Test Accuracy:', test_acc)\n",
        "print('Test F1:', test_f1)"
      ],
      "execution_count": 45,
      "outputs": [
        {
          "output_type": "stream",
          "text": [
            "2500/2500 [==============================] - 24s 9ms/step - loss: 0.0011 - accuracy: 0.9998 - f1_m: 0.9999\n",
            "Test Loss: 0.0010660949628800154\n",
            "Test Accuracy: 0.9998499751091003\n",
            "Test F1: 0.999924898147583\n"
          ],
          "name": "stdout"
        }
      ]
    },
    {
      "cell_type": "code",
      "metadata": {
        "colab": {
          "base_uri": "https://localhost:8080/"
        },
        "id": "ijQa2apDoHsO",
        "outputId": "439ffb30-7555-4b63-a9ad-64640776be7c"
      },
      "source": [
        "# predict on a sample text without padding.\n",
        "\n",
        "sample_text = ('The movie was not good. The animation and the graphics '\n",
        "               'were terrible. I would not recommend this movie.')\n",
        "sample_text2 = ('The movie was cool. The animation and the graphics '\n",
        "               'were out of this world. I would recommend this movie.')\n",
        "predictions = model.predict(np.array([sample_text]))\n",
        "predictions2 = model.predict(np.array([sample_text2]))\n",
        "print(predictions,predictions2)"
      ],
      "execution_count": 46,
      "outputs": [
        {
          "output_type": "stream",
          "text": [
            "[[11.685175]] [[11.08738]]\n"
          ],
          "name": "stdout"
        }
      ]
    },
    {
      "cell_type": "code",
      "metadata": {
        "colab": {
          "base_uri": "https://localhost:8080/",
          "height": 388
        },
        "id": "naiGZm4IoJ4Y",
        "outputId": "113662d3-1acf-4d40-8115-b4c323bb49b1"
      },
      "source": [
        "plt.figure(figsize=(16, 6))\n",
        "plt.subplot(1, 2, 1)\n",
        "plot_graphs(history, 'accuracy')\n",
        "plt.subplot(1, 2, 2)\n",
        "plot_graphs(history, 'loss')"
      ],
      "execution_count": 47,
      "outputs": [
        {
          "output_type": "display_data",
          "data": {
            "image/png": "[encoded data removed]",
            "text/plain": [
              "<Figure size 1152x432 with 2 Axes>"
            ]
          },
          "metadata": {
            "tags": [],
            "needs_background": "light"
          }
        }
      ]
    },
    {
      "cell_type": "code",
      "metadata": {
        "id": "k_Byt6JFoLuW"
      },
      "source": [
        ""
      ],
      "execution_count": null,
      "outputs": []
    }
  ]
}